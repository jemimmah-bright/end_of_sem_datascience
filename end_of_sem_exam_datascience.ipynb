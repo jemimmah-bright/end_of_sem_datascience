{
 "cells": [
  {
   "cell_type": "markdown",
   "id": "e1ddef10-cc03-47a3-9b15-4a20d36f1f02",
   "metadata": {},
   "source": [
    "# 2024/DSC/0031/SS"
   ]
  },
  {
   "cell_type": "markdown",
   "id": "feb79ff7-a7dc-4f85-9112-a40e324b3d68",
   "metadata": {},
   "source": [
    "# No 4 "
   ]
  },
  {
   "cell_type": "raw",
   "id": "d70732cb-eb7f-45df-bd98-5f8b53b5687b",
   "metadata": {},
   "source": [
    "Question answered based on:\n",
    "mathematical_computing( class sessions, practise, notebooks),\n",
    "practise questions PDF questions trial, introduction to numpy notebook sent via email,"
   ]
  },
  {
   "cell_type": "markdown",
   "id": "ca8797e9-0617-4c1d-9081-f48d5290db50",
   "metadata": {},
   "source": [
    "(a)"
   ]
  },
  {
   "cell_type": "raw",
   "id": "549c90ce-d8ce-484f-997d-684140a34d0d",
   "metadata": {},
   "source": [
    "importing the libraries"
   ]
  },
  {
   "cell_type": "code",
   "execution_count": 1,
   "id": "80d2f8ef-7240-4dc3-9b19-05056d133c7b",
   "metadata": {},
   "outputs": [],
   "source": [
    "import numpy as np #numpy is a python library for numerical computing. \n",
    "#it aslo has a collection of mathematical functions to operate on arrays and matrices "
   ]
  },
  {
   "cell_type": "code",
   "execution_count": null,
   "id": "c7a42023-b042-4617-bacc-a5290b49aa78",
   "metadata": {},
   "outputs": [],
   "source": [
    "# let matrix 5x3 be matix_a and 3x2 be matrix_b"
   ]
  },
  {
   "cell_type": "code",
   "execution_count": 5,
   "id": "f3746e37-16ab-4611-aac8-e0dbc50a2aa3",
   "metadata": {},
   "outputs": [
    {
     "name": "stdout",
     "output_type": "stream",
     "text": [
      "[[[1 2 6]\n",
      "  [3 4 4]\n",
      "  [5 6 4]\n",
      "  [3 4 4]\n",
      "  [5 6 4]]]\n"
     ]
    }
   ],
   "source": [
    "matrix_a = np.array ([[[1, 2 ,6], [3, 4, 4,], [5, 6, 4,], [3, 4, 4,], [5, 6, 4,]]])\n",
    "print(matrix_a)   "
   ]
  },
  {
   "cell_type": "code",
   "execution_count": 7,
   "id": "4fdd08e5-e7ea-4aef-965b-67a2588534f1",
   "metadata": {},
   "outputs": [
    {
     "name": "stdout",
     "output_type": "stream",
     "text": [
      "[[[1 2]\n",
      "  [3 4]\n",
      "  [5 6]]]\n"
     ]
    }
   ],
   "source": [
    "matrix_b = np.array([[[1, 2], [3, 4], [5, 6]]])\n",
    "print (matrix_b)"
   ]
  },
  {
   "cell_type": "code",
   "execution_count": 17,
   "id": "f45d1246-7810-4ca3-8534-f5cc2e2ee474",
   "metadata": {},
   "outputs": [
    {
     "name": "stdout",
     "output_type": "stream",
     "text": [
      "[[[ 1  4]\n",
      "  [ 9 16]\n",
      "  [25 36]]]\n"
     ]
    }
   ],
   "source": [
    "# to multiply the matrices we use np.dot or np.multiply functions\n",
    "new_matrix = np.multiply(matrix_a,matrix_b)\n",
    "print(new_matrix)"
   ]
  },
  {
   "cell_type": "raw",
   "id": "c2d63d66-ae64-452d-a5f1-894a57b8e27a",
   "metadata": {},
   "source": [
    "(b)"
   ]
  },
  {
   "cell_type": "code",
   "execution_count": null,
   "id": "5b3f5e8c-7f30-45dd-a1c0-f8c6216a47b8",
   "metadata": {},
   "outputs": [],
   "source": [
    "# An identity matrix is a  type of square matrix. the numbers from the top-left to bottom-right diagonal are all ones (1),\n",
    "# and all the other numbers in the matrix are zeroes(0)\n",
    "# I shall need to import the numpy library which i won't repeat doing since i imported the library already.\n",
    "# then i shall use np.eye(n) where \"n\" is the number so i will replace \"n\" with \"3\" to generate a 3x3 identity matrix\n",
    "# the eye function in numpy stands for \"identity matrix\""
   ]
  },
  {
   "cell_type": "code",
   "execution_count": 18,
   "id": "e18d24e9-de44-4ab5-8151-11720657d392",
   "metadata": {},
   "outputs": [
    {
     "name": "stdout",
     "output_type": "stream",
     "text": [
      "[[1. 0. 0.]\n",
      " [0. 1. 0.]\n",
      " [0. 0. 1.]]\n"
     ]
    }
   ],
   "source": [
    "identity_matrix = np.eye(3)\n",
    "print(identity_matrix )"
   ]
  },
  {
   "cell_type": "raw",
   "id": "eea4cd9b-5c9b-4096-b81e-1623b5c54dd2",
   "metadata": {},
   "source": [
    "(c)"
   ]
  },
  {
   "cell_type": "code",
   "execution_count": 20,
   "id": "11141c4b-dfe3-4e91-ab64-6dc179774683",
   "metadata": {},
   "outputs": [
    {
     "name": "stdout",
     "output_type": "stream",
     "text": [
      "[10 11 12 13 14 15 16 17 18 19 20 21 22 23 24 25 26 27 28 29 30 31 32 33\n",
      " 34 35 36 37 38 39 40 41 42 43 44 45 46 47 48 49]\n"
     ]
    }
   ],
   "source": [
    "vector = np.arange(10,50)\n",
    "print (vector)"
   ]
  },
  {
   "cell_type": "code",
   "execution_count": null,
   "id": "8de748b6-500e-4714-a555-e7ff053e62b3",
   "metadata": {},
   "outputs": [],
   "source": [
    "# np.arange() is a function from the numpy library that creates an array of numbers.\n",
    "# in the parathasis i will add in numbers 10,59 as the range set to get the output. \n",
    "# it starts at 10 and goes up to 49 but does not include 50. with range we add a one\n",
    "# so as to include the last number 49 but 50 exlusive\n"
   ]
  },
  {
   "cell_type": "raw",
   "id": "b29ff3eb-c056-4561-8fb4-125c8f41c1a1",
   "metadata": {},
   "source": [
    "(d)"
   ]
  },
  {
   "cell_type": "code",
   "execution_count": null,
   "id": "defd1238-fb62-4984-8406-1dc021c79958",
   "metadata": {},
   "outputs": [],
   "source": [
    "# a null vector is  a simple array with a single row with only the zero elements \n",
    "# here i shall instract python through nupy to produce a null vector by using \"np.zeros\"\n",
    "# the parathasis\"()\" shall hold the size number of the vector and dtype stands for \"data type\" casting it to \"int\" which means integer"
   ]
  },
  {
   "cell_type": "code",
   "execution_count": 23,
   "id": "2355db9d-ab42-4b43-b8b8-c1e7342ac852",
   "metadata": {},
   "outputs": [
    {
     "name": "stdout",
     "output_type": "stream",
     "text": [
      "[0 0 0 0 0 0 0 0 0 0]\n"
     ]
    }
   ],
   "source": [
    "null_vector = np.zeros((10), dtype = int)\n",
    "print (null_vector)"
   ]
  },
  {
   "cell_type": "raw",
   "id": "bb9dd1c2-a7f5-4edd-af01-7899fb95a395",
   "metadata": {},
   "source": [
    "(e)"
   ]
  },
  {
   "cell_type": "code",
   "execution_count": null,
   "id": "d51957bb-96ea-46fd-ba52-93cd174992ff",
   "metadata": {},
   "outputs": [],
   "source": [
    "# here i shall use random_array = np.random.random((3,3,3)). random.radom is a numpy module that generates random numbers\n",
    "# np.random.random() generates random numbers between 0 and 1 uniformly distribution\n",
    "# The (3,3,3) are arguments specifying the shape of the array, giving it three rows, three columns and three layers.\n",
    "# conclusively, the array shall have random  numbers between 0 and 1 which might be nomally distribute"
   ]
  },
  {
   "cell_type": "code",
   "execution_count": 27,
   "id": "1a814932-d3eb-4cbc-9cf7-14efd09bab7a",
   "metadata": {},
   "outputs": [
    {
     "name": "stdout",
     "output_type": "stream",
     "text": [
      "[[[0.01194917 0.50285544 0.96592235]\n",
      "  [0.19628205 0.18403532 0.13676182]\n",
      "  [0.29550217 0.03060408 0.59479664]]\n",
      "\n",
      " [[0.63034412 0.81347659 0.71525514]\n",
      "  [0.64140695 0.15172851 0.74929988]\n",
      "  [0.13841368 0.7160368  0.57066922]]\n",
      "\n",
      " [[0.41860757 0.09227229 0.85035452]\n",
      "  [0.56480305 0.35923993 0.96919041]\n",
      "  [0.7755718  0.97340555 0.04201217]]]\n"
     ]
    }
   ],
   "source": [
    "random_array = np.random.random((3,3,3))\n",
    "print(random_array)"
   ]
  },
  {
   "cell_type": "raw",
   "id": "9f7d6321-4206-4af9-b343-5e4d944ab956",
   "metadata": {},
   "source": [
    "(f)"
   ]
  },
  {
   "cell_type": "code",
   "execution_count": null,
   "id": "68c5d934-cb76-44e3-8a61-4539135998fc",
   "metadata": {},
   "outputs": [],
   "source": [
    "# in this case the 5x5 matrix, the diagonal elements are the ones where the row and column indices are the same\n",
    "# forexample (0,0), (2,2) and many more. to put the values below the diagonal, \n",
    "# i needed to set values to the position where the row index is greater than the column index"
   ]
  },
  {
   "cell_type": "code",
   "execution_count": 36,
   "id": "60dd6b6f-97c7-4d33-9755-8153f59c0635",
   "metadata": {},
   "outputs": [
    {
     "name": "stdout",
     "output_type": "stream",
     "text": [
      "[[0. 0. 0. 0. 0.]\n",
      " [1. 0. 0. 0. 0.]\n",
      " [0. 2. 0. 0. 0.]\n",
      " [0. 0. 3. 0. 0.]\n",
      " [0. 0. 0. 4. 0.]]\n"
     ]
    }
   ],
   "source": [
    "# here i started by Creating  a 5x5 matrix filled with zeros elements\n",
    "dia_matrix = np.zeros((5,5))\n",
    "given_values =  [1,2,3,4]  # Values to be placed below the diagonal where already provided in the question\n",
    "for i in range (1,5):  # i then started from the second row giving it index 1\n",
    "    dia_matrix [i,i-1] = values[i-1] # Place the values just below the diagonal\n",
    "print (dia_matrix)"
   ]
  },
  {
   "cell_type": "raw",
   "id": "85a480ea-4cc1-4dca-aafc-95212609c973",
   "metadata": {},
   "source": [
    "(g)"
   ]
  },
  {
   "cell_type": "code",
   "execution_count": null,
   "id": "2b9322f2-73dd-4acb-975c-0488ea65e65c",
   "metadata": {},
   "outputs": [],
   "source": [
    "# normalization typically means scaling values so that they fall with in a certain range forexample [0,1]. \n",
    "# to do this i can only subtract the minimum value and divide it by the range (max-min)."
   ]
  },
  {
   "cell_type": "code",
   "execution_count": 38,
   "id": "5b4339a5-73df-4795-b4e6-bb460009aa34",
   "metadata": {},
   "outputs": [
    {
     "name": "stdout",
     "output_type": "stream",
     "text": [
      "[[382.12357505   0.         388.83636239 473.0595156  370.16336392]\n",
      " [385.52567995  59.0921572  230.07968207 296.68169739 207.19355093]\n",
      " [176.36066828 451.14208785 331.86384758  18.2648689  414.82579575]\n",
      " [389.28467216 130.8149808  473.948643   219.91434405 197.82883622]\n",
      " [151.31186958 192.76823519 255.55681111 102.41134918  50.63314949]]\n"
     ]
    }
   ],
   "source": [
    "# generating a radom 5x5 matrix with values between 0 and 1\n",
    "matrix = np.random.random((5,5)) #creating a 5x5 matrix with random values between 0 and 1\n",
    "# normalizing the matrix by subtracting the minimum and dividing by the range (maximum - minimum)\n",
    "matrix = (matrix - np.min(matrix)) / (np.min(matrix))\n",
    "print (matrix)"
   ]
  },
  {
   "cell_type": "raw",
   "id": "eba089f3-4c18-4874-bccb-5ce5ac9bade3",
   "metadata": {},
   "source": [
    "(f)"
   ]
  },
  {
   "cell_type": "code",
   "execution_count": 40,
   "id": "66d455d4-88fe-4d2b-9d76-63cefcc22233",
   "metadata": {},
   "outputs": [
    {
     "name": "stdout",
     "output_type": "stream",
     "text": [
      "[0 1 4]\n"
     ]
    }
   ],
   "source": [
    "#defining the list\n",
    "list = np.array ([1,2,0,0,4,0])\n",
    "#using np.nonzero() to find indices of non zero elements\n",
    "indices = np.nonzero(list)[0] #using [0] to give the actual indices\n",
    "print(indices)"
   ]
  },
  {
   "cell_type": "raw",
   "id": "8f760a6e-09d4-44bd-83c0-04fc77d761e3",
   "metadata": {},
   "source": [
    "(h)"
   ]
  },
  {
   "cell_type": "code",
   "execution_count": 15,
   "id": "e0a4b260-77fb-46ee-ac70-2003f537af38",
   "metadata": {},
   "outputs": [],
   "source": [
    "from datetime import datetime, timedelta\n",
    "#  An inbuilt python module called datetime handles dates and times. using it to get today's \n",
    "# date, and then calculate yesterday and tomorrow. "
   ]
  },
  {
   "cell_type": "code",
   "execution_count": 16,
   "id": "1fefda34-6662-4af0-881b-5c51d59897af",
   "metadata": {},
   "outputs": [
    {
     "name": "stdout",
     "output_type": "stream",
     "text": [
      "yesterday: 2024-12-11\n",
      "today: 2024-12-12\n",
      "tomorrow: 2024-12-13\n"
     ]
    }
   ],
   "source": [
    "today = datetime.today() #getting today's date\n",
    "yesterday = today - timedelta (days = 1) #by subtracting one day(timedelta) i get yesterday's date\n",
    "tomorrow = today + timedelta (days = 1) #by adding one day(timedelta) i get tomorrow's date\n",
    "print (\"yesterday:\", yesterday.strftime('%Y-%m-%d'))\n",
    "print (\"today:\", today.strftime('%Y-%m-%d'))\n",
    "print (\"tomorrow:\", tomorrow.strftime('%Y-%m-%d'))\n",
    "\n",
    "#strftime ('%Y-%m-%d') formats the date as \"year-month-day\" take an example of (2003-12-2)\n"
   ]
  },
  {
   "cell_type": "markdown",
   "id": "9a6e507b-6d8f-4eda-ba4c-2abbabc65c94",
   "metadata": {},
   "source": [
    "# NO 2"
   ]
  },
  {
   "cell_type": "raw",
   "id": "5dde8ea6-9fdb-4e5d-ba35-4d7fcdb69d3a",
   "metadata": {},
   "source": [
    "Question answered from\n",
    "lecture knowledge, exploratory_data_analysis notes PDF sent via email and google class room,data visualisation PDf and \n",
    "Hands-on-exploratory Data analysis with python by Suresh Kumar 2020"
   ]
  },
  {
   "cell_type": "raw",
   "id": "5cf5ad87-377f-4db1-a969-a6ae444f982c",
   "metadata": {},
   "source": [
    "(a)"
   ]
  },
  {
   "cell_type": "code",
   "execution_count": 27,
   "id": "76943e98-a92f-4914-a857-8825f7b68793",
   "metadata": {},
   "outputs": [],
   "source": [
    "import pandas as pd #first and most important step is to import the library to help in loading the external\n",
    "                    #data set "
   ]
  },
  {
   "cell_type": "code",
   "execution_count": 28,
   "id": "d51af260-cdbd-4d7a-baa1-53a62eed4f5a",
   "metadata": {},
   "outputs": [
    {
     "data": {
      "text/html": [
       "<div>\n",
       "<style scoped>\n",
       "    .dataframe tbody tr th:only-of-type {\n",
       "        vertical-align: middle;\n",
       "    }\n",
       "\n",
       "    .dataframe tbody tr th {\n",
       "        vertical-align: top;\n",
       "    }\n",
       "\n",
       "    .dataframe thead th {\n",
       "        text-align: right;\n",
       "    }\n",
       "</style>\n",
       "<table border=\"1\" class=\"dataframe\">\n",
       "  <thead>\n",
       "    <tr style=\"text-align: right;\">\n",
       "      <th></th>\n",
       "      <th>StudentID</th>\n",
       "      <th>Gender</th>\n",
       "      <th>Age</th>\n",
       "      <th>StudyHoursPerWeek</th>\n",
       "      <th>AttendanceRate</th>\n",
       "      <th>GPA</th>\n",
       "      <th>Major</th>\n",
       "      <th>PartTimeJob</th>\n",
       "      <th>ExtraCurricularActivities</th>\n",
       "    </tr>\n",
       "  </thead>\n",
       "  <tbody>\n",
       "    <tr>\n",
       "      <th>0</th>\n",
       "      <td>1</td>\n",
       "      <td>Male</td>\n",
       "      <td>24</td>\n",
       "      <td>37</td>\n",
       "      <td>90.75</td>\n",
       "      <td>3.47</td>\n",
       "      <td>Arts</td>\n",
       "      <td>Yes</td>\n",
       "      <td>No</td>\n",
       "    </tr>\n",
       "    <tr>\n",
       "      <th>1</th>\n",
       "      <td>2</td>\n",
       "      <td>Female</td>\n",
       "      <td>22</td>\n",
       "      <td>37</td>\n",
       "      <td>74.90</td>\n",
       "      <td>2.32</td>\n",
       "      <td>Education</td>\n",
       "      <td>No</td>\n",
       "      <td>No</td>\n",
       "    </tr>\n",
       "    <tr>\n",
       "      <th>2</th>\n",
       "      <td>3</td>\n",
       "      <td>Male</td>\n",
       "      <td>22</td>\n",
       "      <td>10</td>\n",
       "      <td>53.36</td>\n",
       "      <td>2.38</td>\n",
       "      <td>Business</td>\n",
       "      <td>No</td>\n",
       "      <td>No</td>\n",
       "    </tr>\n",
       "    <tr>\n",
       "      <th>3</th>\n",
       "      <td>4</td>\n",
       "      <td>Male</td>\n",
       "      <td>24</td>\n",
       "      <td>10</td>\n",
       "      <td>70.26</td>\n",
       "      <td>3.46</td>\n",
       "      <td>Science</td>\n",
       "      <td>Yes</td>\n",
       "      <td>No</td>\n",
       "    </tr>\n",
       "    <tr>\n",
       "      <th>4</th>\n",
       "      <td>5</td>\n",
       "      <td>Male</td>\n",
       "      <td>18</td>\n",
       "      <td>19</td>\n",
       "      <td>74.87</td>\n",
       "      <td>2.31</td>\n",
       "      <td>Education</td>\n",
       "      <td>Yes</td>\n",
       "      <td>No</td>\n",
       "    </tr>\n",
       "    <tr>\n",
       "      <th>...</th>\n",
       "      <td>...</td>\n",
       "      <td>...</td>\n",
       "      <td>...</td>\n",
       "      <td>...</td>\n",
       "      <td>...</td>\n",
       "      <td>...</td>\n",
       "      <td>...</td>\n",
       "      <td>...</td>\n",
       "      <td>...</td>\n",
       "    </tr>\n",
       "    <tr>\n",
       "      <th>495</th>\n",
       "      <td>496</td>\n",
       "      <td>Male</td>\n",
       "      <td>22</td>\n",
       "      <td>37</td>\n",
       "      <td>76.61</td>\n",
       "      <td>2.97</td>\n",
       "      <td>Science</td>\n",
       "      <td>No</td>\n",
       "      <td>No</td>\n",
       "    </tr>\n",
       "    <tr>\n",
       "      <th>496</th>\n",
       "      <td>497</td>\n",
       "      <td>Male</td>\n",
       "      <td>23</td>\n",
       "      <td>11</td>\n",
       "      <td>56.29</td>\n",
       "      <td>3.20</td>\n",
       "      <td>Science</td>\n",
       "      <td>No</td>\n",
       "      <td>No</td>\n",
       "    </tr>\n",
       "    <tr>\n",
       "      <th>497</th>\n",
       "      <td>498</td>\n",
       "      <td>Female</td>\n",
       "      <td>20</td>\n",
       "      <td>6</td>\n",
       "      <td>56.64</td>\n",
       "      <td>3.20</td>\n",
       "      <td>Science</td>\n",
       "      <td>No</td>\n",
       "      <td>Yes</td>\n",
       "    </tr>\n",
       "    <tr>\n",
       "      <th>498</th>\n",
       "      <td>499</td>\n",
       "      <td>Male</td>\n",
       "      <td>22</td>\n",
       "      <td>18</td>\n",
       "      <td>57.18</td>\n",
       "      <td>2.05</td>\n",
       "      <td>Business</td>\n",
       "      <td>No</td>\n",
       "      <td>Yes</td>\n",
       "    </tr>\n",
       "    <tr>\n",
       "      <th>499</th>\n",
       "      <td>500</td>\n",
       "      <td>Female</td>\n",
       "      <td>24</td>\n",
       "      <td>21</td>\n",
       "      <td>96.99</td>\n",
       "      <td>2.64</td>\n",
       "      <td>Engineering</td>\n",
       "      <td>No</td>\n",
       "      <td>No</td>\n",
       "    </tr>\n",
       "  </tbody>\n",
       "</table>\n",
       "<p>500 rows × 9 columns</p>\n",
       "</div>"
      ],
      "text/plain": [
       "     StudentID  Gender  Age  StudyHoursPerWeek  AttendanceRate   GPA  \\\n",
       "0            1    Male   24                 37           90.75  3.47   \n",
       "1            2  Female   22                 37           74.90  2.32   \n",
       "2            3    Male   22                 10           53.36  2.38   \n",
       "3            4    Male   24                 10           70.26  3.46   \n",
       "4            5    Male   18                 19           74.87  2.31   \n",
       "..         ...     ...  ...                ...             ...   ...   \n",
       "495        496    Male   22                 37           76.61  2.97   \n",
       "496        497    Male   23                 11           56.29  3.20   \n",
       "497        498  Female   20                  6           56.64  3.20   \n",
       "498        499    Male   22                 18           57.18  2.05   \n",
       "499        500  Female   24                 21           96.99  2.64   \n",
       "\n",
       "           Major PartTimeJob ExtraCurricularActivities  \n",
       "0           Arts         Yes                        No  \n",
       "1      Education          No                        No  \n",
       "2       Business          No                        No  \n",
       "3        Science         Yes                        No  \n",
       "4      Education         Yes                        No  \n",
       "..           ...         ...                       ...  \n",
       "495      Science          No                        No  \n",
       "496      Science          No                        No  \n",
       "497      Science          No                       Yes  \n",
       "498     Business          No                       Yes  \n",
       "499  Engineering          No                        No  \n",
       "\n",
       "[500 rows x 9 columns]"
      ]
     },
     "execution_count": 28,
     "metadata": {},
     "output_type": "execute_result"
    }
   ],
   "source": [
    "student_df = pd.read_csv('student_performance_data.csv')\n",
    "student_df"
   ]
  },
  {
   "cell_type": "code",
   "execution_count": 29,
   "id": "84e81e23-a7e1-41fa-8c40-b646e0a0e0f4",
   "metadata": {},
   "outputs": [],
   "source": [
    "student_df = pd.read_csv('student_performance_data.csv')\n",
    "df = pd.read_csv('student_performance_data.csv')"
   ]
  },
  {
   "cell_type": "code",
   "execution_count": 48,
   "id": "9cb2cf79-6621-4ca9-9750-acc25e287f17",
   "metadata": {},
   "outputs": [],
   "source": [
    "grouped_datae = df.groupby(['Gender', 'Major'])['StudyHoursPerWeek'].sum().reset_index()\n",
    "#here i Grouped the data by 'gender' and 'major', then sum the 'Study hours'\n",
    "\n",
    "# Find the major with the highest total study hours for each gender\n",
    "# We will use 'idxmax' to find the row with the highest study hours for each gender\n",
    "max_study_hours_per_gender = grouped_data.loc[grouped_data.groupby('Gender')['StudyHoursPerWeek'].idxmax()]"
   ]
  },
  {
   "cell_type": "code",
   "execution_count": 21,
   "id": "f9c74576-8843-4a37-9300-d99c8de565c3",
   "metadata": {},
   "outputs": [
    {
     "name": "stdout",
     "output_type": "stream",
     "text": [
      "   Gender      Major  StudyHoursPerWeek\n",
      "1  Female   Business               1229\n",
      "7    Male  Education               1212\n"
     ]
    }
   ],
   "source": [
    "print(max_study_hours_per_gender)"
   ]
  },
  {
   "cell_type": "markdown",
   "id": "717f6e12-8792-4f0d-a378-2f17354699e9",
   "metadata": {},
   "source": [
    "(b)"
   ]
  },
  {
   "cell_type": "code",
   "execution_count": 22,
   "id": "1b06f2ba-cb4c-4d6f-bbbb-ce0f7da5b54d",
   "metadata": {},
   "outputs": [],
   "source": [
    "df = pd.read_csv('student_performance_data.csv')"
   ]
  },
  {
   "cell_type": "code",
   "execution_count": 23,
   "id": "900846e8-9994-4913-b186-ebd051f4bf37",
   "metadata": {},
   "outputs": [],
   "source": [
    "total_study_hours_per_major = df.groupby('Major')['StudyHoursPerWeek'].sum().reset_index()\n",
    "# Group the data by 'MAJOR' and sum the 'study hours'"
   ]
  },
  {
   "cell_type": "code",
   "execution_count": 25,
   "id": "e447eb03-9fc5-4e03-9df6-7ffa1465a057",
   "metadata": {},
   "outputs": [
    {
     "name": "stdout",
     "output_type": "stream",
     "text": [
      "         Major  StudyHoursPerWeek  Percentage Contribution\n",
      "0         Arts               1951                19.631717\n",
      "1     Business               2359                23.737170\n",
      "2    Education               2030                20.426645\n",
      "3  Engineering               2125                21.382572\n",
      "4      Science               1473                14.821896\n"
     ]
    }
   ],
   "source": [
    "overall_study_hours = df['StudyHoursPerWeek'].sum()\n",
    "# Calculate the overall total study hours\n",
    "total_study_hours_per_major['Percentage Contribution'] = (total_study_hours_per_major['StudyHoursPerWeek'] / overall_study_hours) * 100\n",
    "#  Calculate the percentage contribution for each major\n",
    "print(total_study_hours_per_major)"
   ]
  },
  {
   "cell_type": "raw",
   "id": "984b2961-5fd2-4c75-a7c1-250d6063761f",
   "metadata": {},
   "source": [
    "(c)"
   ]
  },
  {
   "cell_type": "code",
   "execution_count": 51,
   "id": "872462f1-bc1f-468f-8e00-b585e9119188",
   "metadata": {},
   "outputs": [
    {
     "name": "stdout",
     "output_type": "stream",
     "text": [
      "The gender with the highest over all attendance rate is Female with an attendance rate of 75.93.\n"
     ]
    }
   ],
   "source": [
    "gender_average_attendance = df.groupby('Gender')['AttendanceRate'].mean().reset_index() \n",
    "# Group the data by 'GENDER' and calculate the average attendance rate\n",
    "maximum_gender_attendance = gender_average_attendance.loc[gender_average_attendance['AttendanceRate'].idxmax()]\n",
    "#  Find the gender with the highest average attendance rate\n",
    "print(f\"The gender with the highest over all attendance rate is {maximum_gender_attendance ['Gender']} with an attendance rate of {maximum_gender_attendance ['AttendanceRate']:.2f}.\")"
   ]
  },
  {
   "cell_type": "code",
   "execution_count": 60,
   "id": "557366b5-b763-453d-939c-a4d5fd62e958",
   "metadata": {},
   "outputs": [],
   "source": [
    "import matplotlib.pyplot as plt \n",
    "import seaborn as sns"
   ]
  },
  {
   "cell_type": "code",
   "execution_count": 65,
   "id": "a58a6aab-b9bb-4c02-9e09-ae8d6cf9f6af",
   "metadata": {},
   "outputs": [
    {
     "data": {
      "text/plain": [
       "<Figure size 800x400 with 0 Axes>"
      ]
     },
     "execution_count": 65,
     "metadata": {},
     "output_type": "execute_result"
    },
    {
     "data": {
      "text/plain": [
       "<Figure size 800x400 with 0 Axes>"
      ]
     },
     "metadata": {},
     "output_type": "display_data"
    }
   ],
   "source": [
    "plt.figure(figsize=(8, 4))"
   ]
  },
  {
   "cell_type": "code",
   "execution_count": 80,
   "id": "3b567386-1b36-4863-81e4-7b557881f544",
   "metadata": {},
   "outputs": [
    {
     "data": {
      "image/png": "[encoded data removed]",
      "text/plain": [
       "<Figure size 640x480 with 1 Axes>"
      ]
     },
     "metadata": {},
     "output_type": "display_data"
    }
   ],
   "source": [
    "\n",
    "sns.histplot(student_df , bins = 10, color = \"green\", kde = False)\n",
    "plt.title(\"visualisation of poisson distribution data\")\n",
    "plt.xlabel(\"Age\")\n",
    "plt.ylabel(\"GPA\")\n",
    "plt.show()"
   ]
  },
  {
   "cell_type": "code",
   "execution_count": null,
   "id": "be99e0ef-68ec-4d9d-838b-7e68b2977eec",
   "metadata": {},
   "outputs": [],
   "source": []
  },
  {
   "cell_type": "code",
   "execution_count": null,
   "id": "14f5b22e-8cd5-46e6-8ed4-15e49c1fc30a",
   "metadata": {},
   "outputs": [],
   "source": []
  },
  {
   "cell_type": "markdown",
   "id": "f8c0859a-8375-4b54-85d8-b006ad43b6b4",
   "metadata": {},
   "source": [
    " # NO 3"
   ]
  },
  {
   "cell_type": "raw",
   "id": "cb701670-04ed-4cce-899f-1786cdc3dfc8",
   "metadata": {},
   "source": [
    "Question answered \n",
    "from class knowledge, univeriate_linear_regression.ipynb, mulitple_linear_regression.ipynb\n",
    "and Mathematical introduction book by Damodar N.Gujarati."
   ]
  },
  {
   "cell_type": "raw",
   "id": "c916d7ac-ed80-4ce8-8618-be3d5c5438cb",
   "metadata": {},
   "source": [
    "(a)"
   ]
  },
  {
   "cell_type": "raw",
   "id": "017e1664-64e1-4759-8728-f7c94c8f5ad8",
   "metadata": {},
   "source": [
    "     Linear regression is used when you modelling  relationships between a dependent variable \n",
    "(\"target variable\") and one or more independent variables (\"predictors or features\"). Specifically, it is used when:\n",
    "These are the steps involved in fitting a linear regression in Python:\n",
    "\n",
    "1. import the necessary libraries like numpy, pandas, sklearn for data manipulation and modeling\n",
    "2. load the data set into a pandas dataframe.\n",
    "3. prepare the data by defining the feature \"X\" and target variable \"Y\"\n",
    "4. split the data into training and test sets from sklearn\n",
    "5. create the model by instatiating linear regression model\n",
    "6. fit the model to train data\n",
    "7. make predictions\n",
    "8.finallly, evaluate the model\n",
    "\n",
    "Examples :\n",
    "Predicting a student's scores based on hours of study, attendance and traits in class\n",
    "lets say your predicting prices charged for transportation to a location input by a safe boda client things like climate,distance, fuel\n",
    "price shall be considered to come up with the price to charge the client at the end of the trip\n",
    "\n",
    "Predicting house prices based on features like number of rooms, location, interior design "
   ]
  },
  {
   "cell_type": "raw",
   "id": "75996083-11fa-40ee-bd36-96382fe32df8",
   "metadata": {},
   "source": [
    "(b)"
   ]
  },
  {
   "cell_type": "raw",
   "id": "ccc87799-f671-4a8b-8ae8-534d174356ad",
   "metadata": {},
   "source": [
    "Linearity: There is a linear relationship between the independent variables and the dependent variable.\n",
    "\n",
    "Independence: The residuals or errors are independent of each other.\n",
    "\n",
    "Homoscedasticity: The variance of the residuals  is constant across all levels of the independent variables.\n",
    "                  For that case, the \"scatter\" of the residuals should not increase or decrease as the values of the predictors change.\n",
    "\n",
    "Normality of errors: The errors are normally distributed therefore very important for reliable estimation of coefficients\n",
    "                    and significance testing.\n"
   ]
  },
  {
   "cell_type": "raw",
   "id": "144f0558-8a17-4b94-8d47-2418d48d5f75",
   "metadata": {},
   "source": [
    "(c)"
   ]
  },
  {
   "cell_type": "code",
   "execution_count": 8,
   "id": "b3bd190b-d605-4933-a24f-eaace6bfa4df",
   "metadata": {},
   "outputs": [
    {
     "ename": "FileNotFoundError",
     "evalue": "[Errno 2] No such file or directory: 'Wages_2020Census_cleaned.csv'",
     "output_type": "error",
     "traceback": [
      "\u001b[1;31m---------------------------------------------------------------------------\u001b[0m",
      "\u001b[1;31mFileNotFoundError\u001b[0m                         Traceback (most recent call last)",
      "Cell \u001b[1;32mIn[8], line 1\u001b[0m\n\u001b[1;32m----> 1\u001b[0m wages_dataFrame \u001b[38;5;241m=\u001b[39m \u001b[43mpd\u001b[49m\u001b[38;5;241;43m.\u001b[39;49m\u001b[43mread_csv\u001b[49m\u001b[43m(\u001b[49m\u001b[38;5;124;43m'\u001b[39;49m\u001b[38;5;124;43mWages_2020Census_cleaned.csv\u001b[39;49m\u001b[38;5;124;43m'\u001b[39;49m\u001b[43m)\u001b[49m\n\u001b[0;32m      2\u001b[0m wages_dataFrame  \u001b[38;5;66;03m#importing  or loading the data set\u001b[39;00m\n",
      "File \u001b[1;32m~\\AppData\\Local\\Programs\\Python\\Python312\\Lib\\site-packages\\pandas\\io\\parsers\\readers.py:1026\u001b[0m, in \u001b[0;36mread_csv\u001b[1;34m(filepath_or_buffer, sep, delimiter, header, names, index_col, usecols, dtype, engine, converters, true_values, false_values, skipinitialspace, skiprows, skipfooter, nrows, na_values, keep_default_na, na_filter, verbose, skip_blank_lines, parse_dates, infer_datetime_format, keep_date_col, date_parser, date_format, dayfirst, cache_dates, iterator, chunksize, compression, thousands, decimal, lineterminator, quotechar, quoting, doublequote, escapechar, comment, encoding, encoding_errors, dialect, on_bad_lines, delim_whitespace, low_memory, memory_map, float_precision, storage_options, dtype_backend)\u001b[0m\n\u001b[0;32m   1013\u001b[0m kwds_defaults \u001b[38;5;241m=\u001b[39m _refine_defaults_read(\n\u001b[0;32m   1014\u001b[0m     dialect,\n\u001b[0;32m   1015\u001b[0m     delimiter,\n\u001b[1;32m   (...)\u001b[0m\n\u001b[0;32m   1022\u001b[0m     dtype_backend\u001b[38;5;241m=\u001b[39mdtype_backend,\n\u001b[0;32m   1023\u001b[0m )\n\u001b[0;32m   1024\u001b[0m kwds\u001b[38;5;241m.\u001b[39mupdate(kwds_defaults)\n\u001b[1;32m-> 1026\u001b[0m \u001b[38;5;28;01mreturn\u001b[39;00m \u001b[43m_read\u001b[49m\u001b[43m(\u001b[49m\u001b[43mfilepath_or_buffer\u001b[49m\u001b[43m,\u001b[49m\u001b[43m \u001b[49m\u001b[43mkwds\u001b[49m\u001b[43m)\u001b[49m\n",
      "File \u001b[1;32m~\\AppData\\Local\\Programs\\Python\\Python312\\Lib\\site-packages\\pandas\\io\\parsers\\readers.py:620\u001b[0m, in \u001b[0;36m_read\u001b[1;34m(filepath_or_buffer, kwds)\u001b[0m\n\u001b[0;32m    617\u001b[0m _validate_names(kwds\u001b[38;5;241m.\u001b[39mget(\u001b[38;5;124m\"\u001b[39m\u001b[38;5;124mnames\u001b[39m\u001b[38;5;124m\"\u001b[39m, \u001b[38;5;28;01mNone\u001b[39;00m))\n\u001b[0;32m    619\u001b[0m \u001b[38;5;66;03m# Create the parser.\u001b[39;00m\n\u001b[1;32m--> 620\u001b[0m parser \u001b[38;5;241m=\u001b[39m \u001b[43mTextFileReader\u001b[49m\u001b[43m(\u001b[49m\u001b[43mfilepath_or_buffer\u001b[49m\u001b[43m,\u001b[49m\u001b[43m \u001b[49m\u001b[38;5;241;43m*\u001b[39;49m\u001b[38;5;241;43m*\u001b[39;49m\u001b[43mkwds\u001b[49m\u001b[43m)\u001b[49m\n\u001b[0;32m    622\u001b[0m \u001b[38;5;28;01mif\u001b[39;00m chunksize \u001b[38;5;129;01mor\u001b[39;00m iterator:\n\u001b[0;32m    623\u001b[0m     \u001b[38;5;28;01mreturn\u001b[39;00m parser\n",
      "File \u001b[1;32m~\\AppData\\Local\\Programs\\Python\\Python312\\Lib\\site-packages\\pandas\\io\\parsers\\readers.py:1620\u001b[0m, in \u001b[0;36mTextFileReader.__init__\u001b[1;34m(self, f, engine, **kwds)\u001b[0m\n\u001b[0;32m   1617\u001b[0m     \u001b[38;5;28mself\u001b[39m\u001b[38;5;241m.\u001b[39moptions[\u001b[38;5;124m\"\u001b[39m\u001b[38;5;124mhas_index_names\u001b[39m\u001b[38;5;124m\"\u001b[39m] \u001b[38;5;241m=\u001b[39m kwds[\u001b[38;5;124m\"\u001b[39m\u001b[38;5;124mhas_index_names\u001b[39m\u001b[38;5;124m\"\u001b[39m]\n\u001b[0;32m   1619\u001b[0m \u001b[38;5;28mself\u001b[39m\u001b[38;5;241m.\u001b[39mhandles: IOHandles \u001b[38;5;241m|\u001b[39m \u001b[38;5;28;01mNone\u001b[39;00m \u001b[38;5;241m=\u001b[39m \u001b[38;5;28;01mNone\u001b[39;00m\n\u001b[1;32m-> 1620\u001b[0m \u001b[38;5;28mself\u001b[39m\u001b[38;5;241m.\u001b[39m_engine \u001b[38;5;241m=\u001b[39m \u001b[38;5;28;43mself\u001b[39;49m\u001b[38;5;241;43m.\u001b[39;49m\u001b[43m_make_engine\u001b[49m\u001b[43m(\u001b[49m\u001b[43mf\u001b[49m\u001b[43m,\u001b[49m\u001b[43m \u001b[49m\u001b[38;5;28;43mself\u001b[39;49m\u001b[38;5;241;43m.\u001b[39;49m\u001b[43mengine\u001b[49m\u001b[43m)\u001b[49m\n",
      "File \u001b[1;32m~\\AppData\\Local\\Programs\\Python\\Python312\\Lib\\site-packages\\pandas\\io\\parsers\\readers.py:1880\u001b[0m, in \u001b[0;36mTextFileReader._make_engine\u001b[1;34m(self, f, engine)\u001b[0m\n\u001b[0;32m   1878\u001b[0m     \u001b[38;5;28;01mif\u001b[39;00m \u001b[38;5;124m\"\u001b[39m\u001b[38;5;124mb\u001b[39m\u001b[38;5;124m\"\u001b[39m \u001b[38;5;129;01mnot\u001b[39;00m \u001b[38;5;129;01min\u001b[39;00m mode:\n\u001b[0;32m   1879\u001b[0m         mode \u001b[38;5;241m+\u001b[39m\u001b[38;5;241m=\u001b[39m \u001b[38;5;124m\"\u001b[39m\u001b[38;5;124mb\u001b[39m\u001b[38;5;124m\"\u001b[39m\n\u001b[1;32m-> 1880\u001b[0m \u001b[38;5;28mself\u001b[39m\u001b[38;5;241m.\u001b[39mhandles \u001b[38;5;241m=\u001b[39m \u001b[43mget_handle\u001b[49m\u001b[43m(\u001b[49m\n\u001b[0;32m   1881\u001b[0m \u001b[43m    \u001b[49m\u001b[43mf\u001b[49m\u001b[43m,\u001b[49m\n\u001b[0;32m   1882\u001b[0m \u001b[43m    \u001b[49m\u001b[43mmode\u001b[49m\u001b[43m,\u001b[49m\n\u001b[0;32m   1883\u001b[0m \u001b[43m    \u001b[49m\u001b[43mencoding\u001b[49m\u001b[38;5;241;43m=\u001b[39;49m\u001b[38;5;28;43mself\u001b[39;49m\u001b[38;5;241;43m.\u001b[39;49m\u001b[43moptions\u001b[49m\u001b[38;5;241;43m.\u001b[39;49m\u001b[43mget\u001b[49m\u001b[43m(\u001b[49m\u001b[38;5;124;43m\"\u001b[39;49m\u001b[38;5;124;43mencoding\u001b[39;49m\u001b[38;5;124;43m\"\u001b[39;49m\u001b[43m,\u001b[49m\u001b[43m \u001b[49m\u001b[38;5;28;43;01mNone\u001b[39;49;00m\u001b[43m)\u001b[49m\u001b[43m,\u001b[49m\n\u001b[0;32m   1884\u001b[0m \u001b[43m    \u001b[49m\u001b[43mcompression\u001b[49m\u001b[38;5;241;43m=\u001b[39;49m\u001b[38;5;28;43mself\u001b[39;49m\u001b[38;5;241;43m.\u001b[39;49m\u001b[43moptions\u001b[49m\u001b[38;5;241;43m.\u001b[39;49m\u001b[43mget\u001b[49m\u001b[43m(\u001b[49m\u001b[38;5;124;43m\"\u001b[39;49m\u001b[38;5;124;43mcompression\u001b[39;49m\u001b[38;5;124;43m\"\u001b[39;49m\u001b[43m,\u001b[49m\u001b[43m \u001b[49m\u001b[38;5;28;43;01mNone\u001b[39;49;00m\u001b[43m)\u001b[49m\u001b[43m,\u001b[49m\n\u001b[0;32m   1885\u001b[0m \u001b[43m    \u001b[49m\u001b[43mmemory_map\u001b[49m\u001b[38;5;241;43m=\u001b[39;49m\u001b[38;5;28;43mself\u001b[39;49m\u001b[38;5;241;43m.\u001b[39;49m\u001b[43moptions\u001b[49m\u001b[38;5;241;43m.\u001b[39;49m\u001b[43mget\u001b[49m\u001b[43m(\u001b[49m\u001b[38;5;124;43m\"\u001b[39;49m\u001b[38;5;124;43mmemory_map\u001b[39;49m\u001b[38;5;124;43m\"\u001b[39;49m\u001b[43m,\u001b[49m\u001b[43m \u001b[49m\u001b[38;5;28;43;01mFalse\u001b[39;49;00m\u001b[43m)\u001b[49m\u001b[43m,\u001b[49m\n\u001b[0;32m   1886\u001b[0m \u001b[43m    \u001b[49m\u001b[43mis_text\u001b[49m\u001b[38;5;241;43m=\u001b[39;49m\u001b[43mis_text\u001b[49m\u001b[43m,\u001b[49m\n\u001b[0;32m   1887\u001b[0m \u001b[43m    \u001b[49m\u001b[43merrors\u001b[49m\u001b[38;5;241;43m=\u001b[39;49m\u001b[38;5;28;43mself\u001b[39;49m\u001b[38;5;241;43m.\u001b[39;49m\u001b[43moptions\u001b[49m\u001b[38;5;241;43m.\u001b[39;49m\u001b[43mget\u001b[49m\u001b[43m(\u001b[49m\u001b[38;5;124;43m\"\u001b[39;49m\u001b[38;5;124;43mencoding_errors\u001b[39;49m\u001b[38;5;124;43m\"\u001b[39;49m\u001b[43m,\u001b[49m\u001b[43m \u001b[49m\u001b[38;5;124;43m\"\u001b[39;49m\u001b[38;5;124;43mstrict\u001b[39;49m\u001b[38;5;124;43m\"\u001b[39;49m\u001b[43m)\u001b[49m\u001b[43m,\u001b[49m\n\u001b[0;32m   1888\u001b[0m \u001b[43m    \u001b[49m\u001b[43mstorage_options\u001b[49m\u001b[38;5;241;43m=\u001b[39;49m\u001b[38;5;28;43mself\u001b[39;49m\u001b[38;5;241;43m.\u001b[39;49m\u001b[43moptions\u001b[49m\u001b[38;5;241;43m.\u001b[39;49m\u001b[43mget\u001b[49m\u001b[43m(\u001b[49m\u001b[38;5;124;43m\"\u001b[39;49m\u001b[38;5;124;43mstorage_options\u001b[39;49m\u001b[38;5;124;43m\"\u001b[39;49m\u001b[43m,\u001b[49m\u001b[43m \u001b[49m\u001b[38;5;28;43;01mNone\u001b[39;49;00m\u001b[43m)\u001b[49m\u001b[43m,\u001b[49m\n\u001b[0;32m   1889\u001b[0m \u001b[43m\u001b[49m\u001b[43m)\u001b[49m\n\u001b[0;32m   1890\u001b[0m \u001b[38;5;28;01massert\u001b[39;00m \u001b[38;5;28mself\u001b[39m\u001b[38;5;241m.\u001b[39mhandles \u001b[38;5;129;01mis\u001b[39;00m \u001b[38;5;129;01mnot\u001b[39;00m \u001b[38;5;28;01mNone\u001b[39;00m\n\u001b[0;32m   1891\u001b[0m f \u001b[38;5;241m=\u001b[39m \u001b[38;5;28mself\u001b[39m\u001b[38;5;241m.\u001b[39mhandles\u001b[38;5;241m.\u001b[39mhandle\n",
      "File \u001b[1;32m~\\AppData\\Local\\Programs\\Python\\Python312\\Lib\\site-packages\\pandas\\io\\common.py:873\u001b[0m, in \u001b[0;36mget_handle\u001b[1;34m(path_or_buf, mode, encoding, compression, memory_map, is_text, errors, storage_options)\u001b[0m\n\u001b[0;32m    868\u001b[0m \u001b[38;5;28;01melif\u001b[39;00m \u001b[38;5;28misinstance\u001b[39m(handle, \u001b[38;5;28mstr\u001b[39m):\n\u001b[0;32m    869\u001b[0m     \u001b[38;5;66;03m# Check whether the filename is to be opened in binary mode.\u001b[39;00m\n\u001b[0;32m    870\u001b[0m     \u001b[38;5;66;03m# Binary mode does not support 'encoding' and 'newline'.\u001b[39;00m\n\u001b[0;32m    871\u001b[0m     \u001b[38;5;28;01mif\u001b[39;00m ioargs\u001b[38;5;241m.\u001b[39mencoding \u001b[38;5;129;01mand\u001b[39;00m \u001b[38;5;124m\"\u001b[39m\u001b[38;5;124mb\u001b[39m\u001b[38;5;124m\"\u001b[39m \u001b[38;5;129;01mnot\u001b[39;00m \u001b[38;5;129;01min\u001b[39;00m ioargs\u001b[38;5;241m.\u001b[39mmode:\n\u001b[0;32m    872\u001b[0m         \u001b[38;5;66;03m# Encoding\u001b[39;00m\n\u001b[1;32m--> 873\u001b[0m         handle \u001b[38;5;241m=\u001b[39m \u001b[38;5;28;43mopen\u001b[39;49m\u001b[43m(\u001b[49m\n\u001b[0;32m    874\u001b[0m \u001b[43m            \u001b[49m\u001b[43mhandle\u001b[49m\u001b[43m,\u001b[49m\n\u001b[0;32m    875\u001b[0m \u001b[43m            \u001b[49m\u001b[43mioargs\u001b[49m\u001b[38;5;241;43m.\u001b[39;49m\u001b[43mmode\u001b[49m\u001b[43m,\u001b[49m\n\u001b[0;32m    876\u001b[0m \u001b[43m            \u001b[49m\u001b[43mencoding\u001b[49m\u001b[38;5;241;43m=\u001b[39;49m\u001b[43mioargs\u001b[49m\u001b[38;5;241;43m.\u001b[39;49m\u001b[43mencoding\u001b[49m\u001b[43m,\u001b[49m\n\u001b[0;32m    877\u001b[0m \u001b[43m            \u001b[49m\u001b[43merrors\u001b[49m\u001b[38;5;241;43m=\u001b[39;49m\u001b[43merrors\u001b[49m\u001b[43m,\u001b[49m\n\u001b[0;32m    878\u001b[0m \u001b[43m            \u001b[49m\u001b[43mnewline\u001b[49m\u001b[38;5;241;43m=\u001b[39;49m\u001b[38;5;124;43m\"\u001b[39;49m\u001b[38;5;124;43m\"\u001b[39;49m\u001b[43m,\u001b[49m\n\u001b[0;32m    879\u001b[0m \u001b[43m        \u001b[49m\u001b[43m)\u001b[49m\n\u001b[0;32m    880\u001b[0m     \u001b[38;5;28;01melse\u001b[39;00m:\n\u001b[0;32m    881\u001b[0m         \u001b[38;5;66;03m# Binary mode\u001b[39;00m\n\u001b[0;32m    882\u001b[0m         handle \u001b[38;5;241m=\u001b[39m \u001b[38;5;28mopen\u001b[39m(handle, ioargs\u001b[38;5;241m.\u001b[39mmode)\n",
      "\u001b[1;31mFileNotFoundError\u001b[0m: [Errno 2] No such file or directory: 'Wages_2020Census_cleaned.csv'"
     ]
    }
   ],
   "source": [
    "wages_dataFrame = pd.read_csv('Wages 2020Census cleaned.csv')\n",
    "wages_dataFrame  #importing  or loading the data set"
   ]
  },
  {
   "cell_type": "raw",
   "id": "01f6a327-6dfd-4b27-a828-e937aeb5b6b3",
   "metadata": {},
   "source": [
    "since i can't import the e 2020 US Census dataset please allow me take you throught my thought process \n",
    "for this question number"
   ]
  },
  {
   "cell_type": "markdown",
   "id": "37bb2bf7-423b-40da-a275-70b51a896b4f",
   "metadata": {},
   "source": [
    "# thought process"
   ]
  },
  {
   "cell_type": "raw",
   "id": "2520f59d-cad6-4e3d-8b2c-b5935ab5518a",
   "metadata": {},
   "source": [
    "step 1\n",
    "import the necessary libraries forexample\n",
    "import pandas as pd\n",
    "import numpy as np\n",
    "from sklearn.model_section import train_test_split\n",
    "from sklearn.model import linearRegression\n",
    "from sklearn.metric import mean_squared_error\n",
    "\n",
    "step 2\n",
    "load the dataset from the csv file using pandas, making sure the path to the 2020 US Census dataset is correct\n",
    "if need inspect the first few rows to understand the structure of the dataset forexample \"Wages_data.head ()\"\n",
    "i shall skip the data cleaning process since the data set is said to be cleaned\n",
    "\n",
    "step 3\n",
    "split data into training and testing sets to evaluate the model's performance later\n",
    "\n",
    "step 4\n",
    "train the model by creating an instance of the linearRegression model and fit it to traindata\n",
    "\n",
    "step 5\n",
    "generate the equation from the model. here you can access the model's coefficients and intercept to generate the linear equation\n",
    "that's to say (model.coef_) (model.intercept_) respectively\n",
    "this equation generated represents trained linear regression model, where \"Y\" is the predicted target variable\n",
    "\n",
    "step 6\n",
    "Evaluation of the model once its trained. it  is important to evaluate its performance on the  test data. i could use squared error\n",
    "0r R-squared to access the model's accuracy\n",
    "\n",
    "\n"
   ]
  },
  {
   "cell_type": "raw",
   "id": "b0ec138c-8eb9-4bb3-8674-934fa5138b54",
   "metadata": {},
   "source": [
    "(d)"
   ]
  },
  {
   "cell_type": "raw",
   "id": "f3b425e7-07d0-4b26-bc2a-f2835be9b329",
   "metadata": {},
   "source": [
    "The only diffrence here from (c) is that you use the absolute diffrence between the predicted and actual values rather\n",
    "than squaring the diffrence. \n",
    "steps to calculate the (MAE) mean absolutr error are: \n",
    "\n",
    "    Train the model. loading and splitting the dataset into training and testing sets.\n",
    "    Make predictions by using the model to predict the values for the test set\n",
    "    compute the mean absolute error from the provided equation.\n",
    "\n"
   ]
  },
  {
   "cell_type": "raw",
   "id": "9e96dc04-cc6e-4323-a5eb-02e89c9468d9",
   "metadata": {},
   "source": [
    "(e)"
   ]
  },
  {
   "cell_type": "raw",
   "id": "42222f72-04a7-4ac9-8580-eaa0ce492d7d",
   "metadata": {},
   "source": [
    "Model coefficients, the coefficient weights of the model represent the changes in the target variable for\n",
    "one unit increase in the corresponding features while keeping other features constant,in simple linear regression,\n",
    "the coefficient tells you how much target variables changes for each unit changes in predictor variable.\n",
    "\n",
    "                                                           Example\n",
    "If the coefficient of birth_rate is 2.5, this means that for every additional birth, the predicted population increases by 2.5\n",
    "\n",
    "    Model Intercept. This is the predicted value of the target variable \"Y\" when all \n",
    "the features are equal to zero forexample, if the\n",
    "     Intercept is 50, then no deathrates are recored, the predicted population will be 50\n",
    "     R-squared indicates how much variability in a dependant variable is explained by the model\n",
    "     p-value, the smaller the probability value the siginificant the predictor affects the response\n",
    "forexample when the p-value is o.5 and less\n",
    "     Measure how precise the coefficients are, smaller values mean more precision\n",
    "     Give a range where the true coefficient likely falls.\n",
    "     Errors, random patterns mean a good fit\n",
    "     Measure model performance using MAE not forgetting that smaller values are better\n",
    "    Assumption checking, by ensuring linearity, costant variance are met by analyzing errors and plots\n",
    "\n"
   ]
  },
  {
   "cell_type": "raw",
   "id": "e206aaf5-d1e9-4d06-ae12-f0a26c87c31c",
   "metadata": {},
   "source": [
    "(f)"
   ]
  },
  {
   "cell_type": "code",
   "execution_count": null,
   "id": "158be619-36d6-4a21-a69b-47e7fec1a6ff",
   "metadata": {},
   "outputs": [],
   "source": []
  }
 ],
 "metadata": {
  "kernelspec": {
   "display_name": "Python 3 (ipykernel)",
   "language": "python",
   "name": "python3"
  },
  "language_info": {
   "codemirror_mode": {
    "name": "ipython",
    "version": 3
   },
   "file_extension": ".py",
   "mimetype": "text/x-python",
   "name": "python",
   "nbconvert_exporter": "python",
   "pygments_lexer": "ipython3",
   "version": "3.12.6"
  }
 },
 "nbformat": 4,
 "nbformat_minor": 5
}
